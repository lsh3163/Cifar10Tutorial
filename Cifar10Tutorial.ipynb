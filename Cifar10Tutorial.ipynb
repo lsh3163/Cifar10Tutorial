{
  "nbformat": 4,
  "nbformat_minor": 0,
  "metadata": {
    "colab": {
      "name": "Homework2.ipynb",
      "version": "0.3.2",
      "provenance": [],
      "include_colab_link": true
    },
    "kernelspec": {
      "name": "python3",
      "display_name": "Python 3"
    },
    "accelerator": "GPU"
  },
  "cells": [
    {
      "cell_type": "markdown",
      "metadata": {
        "id": "view-in-github",
        "colab_type": "text"
      },
      "source": [
        "<a href=\"https://colab.research.google.com/github/lsh3163/Cifar10Tutorial/blob/master/Cifar10Tutorial.ipynb\" target=\"_parent\"><img src=\"https://colab.research.google.com/assets/colab-badge.svg\" alt=\"Open In Colab\"/></a>"
      ]
    },
    {
      "cell_type": "markdown",
      "metadata": {
        "id": "N4vciALPHRmK",
        "colab_type": "text"
      },
      "source": [
        "# Homwerk2 : Neural Network 프레임워크로 구현"
      ]
    },
    {
      "cell_type": "markdown",
      "metadata": {
        "id": "Uer2RVZYH17K",
        "colab_type": "text"
      },
      "source": [
        "## 1. 데이터셋 준비"
      ]
    },
    {
      "cell_type": "code",
      "metadata": {
        "id": "QAbxc1e8Ks9e",
        "colab_type": "code",
        "colab": {
          "base_uri": "https://localhost:8080/",
          "height": 35
        },
        "outputId": "2c290626-7ab4-445c-fca6-d83bae9ab8fe"
      },
      "source": [
        "import torch\n",
        "from torchvision import datasets, transforms\n",
        "import helper\n",
        "\n",
        "device = torch.device(\"cuda:0\" if torch.cuda.is_available() else \"cpu\")\n",
        "\n",
        "# CUDA 기기가 존재한다면, 아래 코드가 CUDA 장치를 출력합니다:\n",
        "\n",
        "print(device)"
      ],
      "execution_count": 1,
      "outputs": [
        {
          "output_type": "stream",
          "text": [
            "cuda:0\n"
          ],
          "name": "stdout"
        }
      ]
    },
    {
      "cell_type": "code",
      "metadata": {
        "id": "R91J7Ci-HW2z",
        "colab_type": "code",
        "outputId": "39296839-a00c-4b4d-dd82-aa978d05bb9c",
        "colab": {
          "base_uri": "https://localhost:8080/",
          "height": 74
        }
      },
      "source": [
        "# Define a transform to normalize the data\n",
        "transform = transforms.Compose([transforms.ToTensor(),\n",
        "                                transforms.Normalize([0.5, 0.5, 0.5], [0.5, 0.5, 0.5])])\n",
        "# Download and load the training data\n",
        "trainset = datasets.CIFAR10('~/.pytorch/MNIST_data/', download=True, train=True, transform=transform)\n",
        "trainloader = torch.utils.data.DataLoader(trainset, batch_size=64, shuffle=True)\n",
        "\n",
        "# Download and load the test data\n",
        "testset = datasets.CIFAR10('~/.pytorch/MNIST_data/', download=True, train=False, transform=transform)\n",
        "testloader = torch.utils.data.DataLoader(testset, batch_size=64, shuffle=True)"
      ],
      "execution_count": 2,
      "outputs": [
        {
          "output_type": "stream",
          "text": [
            "\r0it [00:00, ?it/s]"
          ],
          "name": "stderr"
        },
        {
          "output_type": "stream",
          "text": [
            "Downloading https://www.cs.toronto.edu/~kriz/cifar-10-python.tar.gz to /root/.pytorch/MNIST_data/cifar-10-python.tar.gz\n"
          ],
          "name": "stdout"
        },
        {
          "output_type": "stream",
          "text": [
            " 99%|█████████▉| 168910848/170498071 [00:09<00:00, 20083976.70it/s]"
          ],
          "name": "stderr"
        },
        {
          "output_type": "stream",
          "text": [
            "Files already downloaded and verified\n"
          ],
          "name": "stdout"
        }
      ]
    },
    {
      "cell_type": "markdown",
      "metadata": {
        "id": "bAa5fFMXIAzh",
        "colab_type": "text"
      },
      "source": [
        "### Plot Image"
      ]
    },
    {
      "cell_type": "code",
      "metadata": {
        "id": "z1OTRq_pIAKG",
        "colab_type": "code",
        "colab": {}
      },
      "source": [
        "def imshow(img):\n",
        "    img = img / 2 + 0.5     # unnormalize\n",
        "    npimg = img.numpy()\n",
        "    plt.imshow(np.transpose(npimg, (1, 2, 0)))\n",
        "    plt.show()"
      ],
      "execution_count": 0,
      "outputs": []
    },
    {
      "cell_type": "code",
      "metadata": {
        "id": "yxRw4-NSH0Gd",
        "colab_type": "code",
        "outputId": "c0880e72-a50c-445d-9b13-0b7a36806a78",
        "colab": {
          "base_uri": "https://localhost:8080/",
          "height": 269
        }
      },
      "source": [
        "import matplotlib.pyplot as plt\n",
        "import numpy as np\n",
        "image, label = next(iter(trainloader))\n",
        "imshow(image[0,:]);"
      ],
      "execution_count": 4,
      "outputs": [
        {
          "output_type": "display_data",
          "data": {
            "image/png": "[encoded data removed]",
            "text/plain": [
              "<Figure size 432x288 with 1 Axes>"
            ]
          },
          "metadata": {
            "tags": []
          }
        }
      ]
    },
    {
      "cell_type": "markdown",
      "metadata": {
        "id": "5Fu5FG9NIWEu",
        "colab_type": "text"
      },
      "source": [
        "## 2. 네트워크 만들기"
      ]
    },
    {
      "cell_type": "code",
      "metadata": {
        "id": "k7N6SspfIU_P",
        "colab_type": "code",
        "colab": {}
      },
      "source": [
        "from torch import nn\n",
        "from torch import optim\n",
        "from torch.nn import functional as F\n",
        "class Classifier(nn.Module):\n",
        "    def __init__(self):\n",
        "        super().__init__()\n",
        "        self.fc1 = nn.Linear(32*32*3, 512)\n",
        "        self.batch1 = nn.BatchNorm1d(512)\n",
        "        self.fc2 = nn.Linear(512, 256)\n",
        "        self.batch2 = nn.BatchNorm1d(256)\n",
        "        self.fc3 = nn.Linear(256, 128)\n",
        "        self.batch3 = nn.BatchNorm1d(128)\n",
        "        self.fc4 = nn.Linear(128, 10)\n",
        "\n",
        "        # 0.2정도를 무작위로 골라 dropout한다.\n",
        "        self.dropout = nn.Dropout(p=0.2)\n",
        "    \n",
        "    def forward(self, x):\n",
        "        x = x.view(x.shape[0], -1)\n",
        "        \n",
        "        x = self.dropout(F.relu(self.batch1(self.fc1(x))))\n",
        "        x = self.dropout(F.relu(self.batch2(self.fc2(x))))\n",
        "        x = self.dropout(F.relu(self.batch3(self.fc3(x))))\n",
        "\n",
        "        # output은 dropout하면 안된다..\n",
        "        x = F.log_softmax(self.fc4(x), dim=1)\n",
        "\n",
        "        return x"
      ],
      "execution_count": 0,
      "outputs": []
    },
    {
      "cell_type": "code",
      "metadata": {
        "id": "-3UT2JnPILC5",
        "colab_type": "code",
        "outputId": "98e31b59-81e0-4170-a413-7db810862687",
        "colab": {
          "base_uri": "https://localhost:8080/",
          "height": 583
        }
      },
      "source": [
        "model = Classifier()\n",
        "model.to(device)\n",
        "# Log Softmax Classifier\n",
        "criterion = nn.NLLLoss()\n",
        "# Adam optimizer\n",
        "optimizer = optim.Adam(model.parameters(), lr=0.003, betas=(0.9, 0.999))\n",
        "\n",
        "epochs=30\n",
        "train_losses, test_losses = [], []\n",
        "for e in range(epochs):\n",
        "    running_loss = 0\n",
        "    for images, labels in trainloader:\n",
        "        # 0으로 초기화\n",
        "        optimizer.zero_grad()\n",
        "        # log_ps-> 확률값\n",
        "        log_ps = model(images.to(device))\n",
        "        # 손실계산\n",
        "        loss = criterion(log_ps, labels.to(device))\n",
        "        loss.backward()\n",
        "        optimizer.step()\n",
        "        \n",
        "        \n",
        "        running_loss += loss.item()\n",
        "        \n",
        "    else:\n",
        "        test_loss = 0\n",
        "        accuracy = 0\n",
        "        \n",
        "        with torch.no_grad():\n",
        "            # test 과정에 들어간다. dropout을 안하게 된다.\n",
        "            # 정확하게 말하면, dropout 하는 비율이 0이 된다.\n",
        "            model.eval()\n",
        "            for images, labels in testloader:\n",
        "                log_ps = model(images.to(device))\n",
        "                test_loss += criterion(log_ps, labels.to(device))\n",
        "                \n",
        "                ps = torch.exp(log_ps)\n",
        "                top_p, top_class = ps.topk(1, dim=1)\n",
        "                equals = top_class == labels.to(device).view(*top_class.shape)\n",
        "                accuracy += torch.mean(equals.type(torch.FloatTensor))\n",
        "        \n",
        "        # 다시 트레이닝 과정으로 돌아간다.\n",
        "        model.train()\n",
        "        \n",
        "        train_losses.append(running_loss/len(trainloader))\n",
        "        test_losses.append(test_loss/len(testloader))\n",
        "\n",
        "        print(\"Epoch: {}/{}.. \".format(e+1, epochs),\n",
        "              \"Training Loss: {:.3f}.. \".format(train_losses[-1]),\n",
        "              \"Test Loss: {:.3f}.. \".format(test_losses[-1]),\n",
        "              \"Test Accuracy: {:.3f}\".format(accuracy/len(testloader)))\n"
      ],
      "execution_count": 6,
      "outputs": [
        {
          "output_type": "stream",
          "text": [
            "\r170500096it [00:20, 20083976.70it/s]                               "
          ],
          "name": "stderr"
        },
        {
          "output_type": "stream",
          "text": [
            "Epoch: 1/30..  Training Loss: 1.706..  Test Loss: 1.492..  Test Accuracy: 0.468\n",
            "Epoch: 2/30..  Training Loss: 1.515..  Test Loss: 1.389..  Test Accuracy: 0.508\n",
            "Epoch: 3/30..  Training Loss: 1.425..  Test Loss: 1.337..  Test Accuracy: 0.523\n",
            "Epoch: 4/30..  Training Loss: 1.363..  Test Loss: 1.326..  Test Accuracy: 0.527\n",
            "Epoch: 5/30..  Training Loss: 1.317..  Test Loss: 1.297..  Test Accuracy: 0.540\n",
            "Epoch: 6/30..  Training Loss: 1.278..  Test Loss: 1.287..  Test Accuracy: 0.540\n",
            "Epoch: 7/30..  Training Loss: 1.236..  Test Loss: 1.270..  Test Accuracy: 0.543\n",
            "Epoch: 8/30..  Training Loss: 1.202..  Test Loss: 1.246..  Test Accuracy: 0.554\n",
            "Epoch: 9/30..  Training Loss: 1.169..  Test Loss: 1.236..  Test Accuracy: 0.557\n",
            "Epoch: 10/30..  Training Loss: 1.141..  Test Loss: 1.240..  Test Accuracy: 0.559\n",
            "Epoch: 11/30..  Training Loss: 1.111..  Test Loss: 1.243..  Test Accuracy: 0.562\n",
            "Epoch: 12/30..  Training Loss: 1.085..  Test Loss: 1.223..  Test Accuracy: 0.567\n",
            "Epoch: 13/30..  Training Loss: 1.053..  Test Loss: 1.227..  Test Accuracy: 0.569\n",
            "Epoch: 14/30..  Training Loss: 1.038..  Test Loss: 1.255..  Test Accuracy: 0.561\n",
            "Epoch: 15/30..  Training Loss: 1.012..  Test Loss: 1.233..  Test Accuracy: 0.569\n",
            "Epoch: 16/30..  Training Loss: 0.989..  Test Loss: 1.221..  Test Accuracy: 0.572\n",
            "Epoch: 17/30..  Training Loss: 0.958..  Test Loss: 1.242..  Test Accuracy: 0.573\n",
            "Epoch: 18/30..  Training Loss: 0.944..  Test Loss: 1.241..  Test Accuracy: 0.567\n",
            "Epoch: 19/30..  Training Loss: 0.932..  Test Loss: 1.246..  Test Accuracy: 0.574\n",
            "Epoch: 20/30..  Training Loss: 0.916..  Test Loss: 1.244..  Test Accuracy: 0.573\n",
            "Epoch: 21/30..  Training Loss: 0.890..  Test Loss: 1.227..  Test Accuracy: 0.579\n",
            "Epoch: 22/30..  Training Loss: 0.868..  Test Loss: 1.251..  Test Accuracy: 0.575\n",
            "Epoch: 23/30..  Training Loss: 0.860..  Test Loss: 1.277..  Test Accuracy: 0.579\n",
            "Epoch: 24/30..  Training Loss: 0.848..  Test Loss: 1.270..  Test Accuracy: 0.577\n",
            "Epoch: 25/30..  Training Loss: 0.828..  Test Loss: 1.273..  Test Accuracy: 0.571\n",
            "Epoch: 26/30..  Training Loss: 0.815..  Test Loss: 1.289..  Test Accuracy: 0.569\n",
            "Epoch: 27/30..  Training Loss: 0.798..  Test Loss: 1.258..  Test Accuracy: 0.580\n",
            "Epoch: 28/30..  Training Loss: 0.788..  Test Loss: 1.283..  Test Accuracy: 0.576\n",
            "Epoch: 29/30..  Training Loss: 0.778..  Test Loss: 1.291..  Test Accuracy: 0.573\n",
            "Epoch: 30/30..  Training Loss: 0.766..  Test Loss: 1.293..  Test Accuracy: 0.579\n"
          ],
          "name": "stdout"
        }
      ]
    },
    {
      "cell_type": "code",
      "metadata": {
        "id": "2W8UC680NC9S",
        "colab_type": "code",
        "colab": {
          "base_uri": "https://localhost:8080/",
          "height": 285
        },
        "outputId": "8f4fadfa-a34a-4dbd-bf51-650a40a9410e"
      },
      "source": [
        "%matplotlib inline\n",
        "%config InlineBackend.figure_format='retina'\n",
        "\n",
        "import matplotlib.pyplot as plt\n",
        "\n",
        "plt.plot(train_losses, label='training loss')\n",
        "plt.plot(test_losses, label='Validation loss')\n",
        "plt.legend(frameon=False)"
      ],
      "execution_count": 7,
      "outputs": [
        {
          "output_type": "execute_result",
          "data": {
            "text/plain": [
              "<matplotlib.legend.Legend at 0x7f8d70755ac8>"
            ]
          },
          "metadata": {
            "tags": []
          },
          "execution_count": 7
        },
        {
          "output_type": "display_data",
          "data": {
            "image/png": "[encoded data removed]",
            "text/plain": [
              "<Figure size 432x288 with 1 Axes>"
            ]
          },
          "metadata": {
            "tags": [],
            "image/png": {
              "width": 373,
              "height": 250
            }
          }
        }
      ]
    },
    {
      "cell_type": "markdown",
      "metadata": {
        "id": "MRE1Ia9Cpfan",
        "colab_type": "text"
      },
      "source": [
        "## Data Augmentation"
      ]
    },
    {
      "cell_type": "code",
      "metadata": {
        "id": "R9LqmBbWOXtA",
        "colab_type": "code",
        "colab": {
          "base_uri": "https://localhost:8080/",
          "height": 601
        },
        "outputId": "6f4ccedb-3836-4438-aa8b-3a37cb7c431e"
      },
      "source": [
        "!pip install git+https://github.com/aleju/imgaug\n",
        "from imgaug import augmenters as iaa\n",
        "import imgaug as ia"
      ],
      "execution_count": 8,
      "outputs": [
        {
          "output_type": "stream",
          "text": [
            "Collecting git+https://github.com/aleju/imgaug\n",
            "  Cloning https://github.com/aleju/imgaug to /tmp/pip-req-build-l3cov9yz\n",
            "  Running command git clone -q https://github.com/aleju/imgaug /tmp/pip-req-build-l3cov9yz\n",
            "Requirement already satisfied (use --upgrade to upgrade): imgaug==0.2.9 from git+https://github.com/aleju/imgaug in /usr/local/lib/python3.6/dist-packages\n",
            "Requirement already satisfied: six in /usr/local/lib/python3.6/dist-packages (from imgaug==0.2.9) (1.12.0)\n",
            "Requirement already satisfied: numpy>=1.15 in /usr/local/lib/python3.6/dist-packages (from imgaug==0.2.9) (1.16.4)\n",
            "Requirement already satisfied: scipy in /usr/local/lib/python3.6/dist-packages (from imgaug==0.2.9) (1.3.1)\n",
            "Requirement already satisfied: Pillow in /usr/local/lib/python3.6/dist-packages (from imgaug==0.2.9) (4.3.0)\n",
            "Requirement already satisfied: matplotlib in /usr/local/lib/python3.6/dist-packages (from imgaug==0.2.9) (3.0.3)\n",
            "Requirement already satisfied: scikit-image>=0.14.2 in /usr/local/lib/python3.6/dist-packages (from imgaug==0.2.9) (0.15.0)\n",
            "Collecting opencv-python-headless (from imgaug==0.2.9)\n",
            "\u001b[?25l  Downloading https://files.pythonhosted.org/packages/c5/99/73a9f2505b5a4fc6315ad35cb0dbda33e389201c3da24c6fbb0eb0e32c97/opencv_python_headless-4.1.0.25-cp36-cp36m-manylinux1_x86_64.whl (20.0MB)\n",
            "\u001b[K     |████████████████████████████████| 20.0MB 40.3MB/s \n",
            "\u001b[?25hRequirement already satisfied: imageio in /usr/local/lib/python3.6/dist-packages (from imgaug==0.2.9) (2.4.1)\n",
            "Requirement already satisfied: Shapely in /usr/local/lib/python3.6/dist-packages (from imgaug==0.2.9) (1.6.4.post2)\n",
            "Requirement already satisfied: olefile in /usr/local/lib/python3.6/dist-packages (from Pillow->imgaug==0.2.9) (0.46)\n",
            "Requirement already satisfied: python-dateutil>=2.1 in /usr/local/lib/python3.6/dist-packages (from matplotlib->imgaug==0.2.9) (2.5.3)\n",
            "Requirement already satisfied: pyparsing!=2.0.4,!=2.1.2,!=2.1.6,>=2.0.1 in /usr/local/lib/python3.6/dist-packages (from matplotlib->imgaug==0.2.9) (2.4.2)\n",
            "Requirement already satisfied: cycler>=0.10 in /usr/local/lib/python3.6/dist-packages (from matplotlib->imgaug==0.2.9) (0.10.0)\n",
            "Requirement already satisfied: kiwisolver>=1.0.1 in /usr/local/lib/python3.6/dist-packages (from matplotlib->imgaug==0.2.9) (1.1.0)\n",
            "Requirement already satisfied: PyWavelets>=0.4.0 in /usr/local/lib/python3.6/dist-packages (from scikit-image>=0.14.2->imgaug==0.2.9) (1.0.3)\n",
            "Requirement already satisfied: networkx>=2.0 in /usr/local/lib/python3.6/dist-packages (from scikit-image>=0.14.2->imgaug==0.2.9) (2.3)\n",
            "Requirement already satisfied: setuptools in /usr/local/lib/python3.6/dist-packages (from kiwisolver>=1.0.1->matplotlib->imgaug==0.2.9) (41.2.0)\n",
            "Requirement already satisfied: decorator>=4.3.0 in /usr/local/lib/python3.6/dist-packages (from networkx>=2.0->scikit-image>=0.14.2->imgaug==0.2.9) (4.4.0)\n",
            "Building wheels for collected packages: imgaug\n",
            "  Building wheel for imgaug (setup.py) ... \u001b[?25l\u001b[?25hdone\n",
            "  Created wheel for imgaug: filename=imgaug-0.2.9-cp36-none-any.whl size=820869 sha256=140fc10b2305222bb38c34615b9fc4bd57bf48d5d52bf24d898c545d2d86aa53\n",
            "  Stored in directory: /tmp/pip-ephem-wheel-cache-bvw6e7qd/wheels/9c/f6/aa/41dcf2f29cc1de1da4ad840ef5393514bead64ac9e644260ff\n",
            "Successfully built imgaug\n",
            "Installing collected packages: opencv-python-headless\n",
            "Successfully installed opencv-python-headless-4.1.0.25\n"
          ],
          "name": "stdout"
        }
      ]
    },
    {
      "cell_type": "code",
      "metadata": {
        "id": "5gU_2BeJOagH",
        "colab_type": "code",
        "colab": {}
      },
      "source": [
        "class ImgAugTransform:\n",
        "  def __init__(self):\n",
        "    self.aug = iaa.Sequential([\n",
        "        iaa.Sometimes(0.25, iaa.GaussianBlur(sigma=(0, 3.0))),\n",
        "        iaa.Fliplr(0.5),\n",
        "        iaa.Affine(rotate=(-20, 20), mode='symmetric'),\n",
        "        iaa.Sometimes(0.25,\n",
        "                      iaa.OneOf([iaa.Dropout(p=(0, 0.1)),\n",
        "                                 iaa.CoarseDropout(0.1, size_percent=0.5)])),\n",
        "        iaa.AddToHueAndSaturation(value=(-10, 10), per_channel=True)\n",
        "    ])\n",
        "      \n",
        "  def __call__(self, img):\n",
        "    img = np.array(img)\n",
        "    return self.aug.augment_image(img)\n",
        "\n",
        "aug_transforms = ImgAugTransform()"
      ],
      "execution_count": 0,
      "outputs": []
    },
    {
      "cell_type": "code",
      "metadata": {
        "id": "THaVSQFAnKcM",
        "colab_type": "code",
        "colab": {}
      },
      "source": [
        "from torchvision import datasets, transforms\n",
        "\n",
        "# Define a transform to normalize the data\n",
        "transform = transforms.Compose([# transforms.RandomRotation(20),\n",
        "                                aug_transforms,\n",
        "                                transforms.ToTensor(),\n",
        "                                transforms.Normalize([0.5, 0.5, 0.5], [0.5, 0.5, 0.5])])"
      ],
      "execution_count": 0,
      "outputs": []
    },
    {
      "cell_type": "code",
      "metadata": {
        "id": "4Zg8r7WUjAEn",
        "colab_type": "code",
        "colab": {
          "base_uri": "https://localhost:8080/",
          "height": 54
        },
        "outputId": "77219fc1-701c-41fa-bbe2-d9906df18e03"
      },
      "source": [
        "# Download and load the training data\n",
        "trainset = datasets.CIFAR10('~/.pytorch/MNIST_data/', download=True, train=True, transform=transform)\n",
        "trainloader = torch.utils.data.DataLoader(trainset, batch_size=64, shuffle=True)\n",
        "\n",
        "# Download and load the test data\n",
        "testset = datasets.CIFAR10('~/.pytorch/MNIST_data/', download=True, train=False, transform=transform)\n",
        "testloader = torch.utils.data.DataLoader(testset, batch_size=64, shuffle=True)"
      ],
      "execution_count": 14,
      "outputs": [
        {
          "output_type": "stream",
          "text": [
            "Files already downloaded and verified\n",
            "Files already downloaded and verified\n"
          ],
          "name": "stdout"
        }
      ]
    },
    {
      "cell_type": "code",
      "metadata": {
        "id": "A9BkZ1Swkrtt",
        "colab_type": "code",
        "colab": {
          "base_uri": "https://localhost:8080/",
          "height": 563
        },
        "outputId": "1db1aa7f-635c-4b02-c2fe-7d6d9c0a506b"
      },
      "source": [
        "model = Classifier()\n",
        "model.to(device)\n",
        "# Log Softmax Classifier\n",
        "criterion = nn.NLLLoss()\n",
        "# Adam optimizer\n",
        "optimizer = optim.Adam(model.parameters(), lr=0.003, betas=(0.9, 0.999))\n",
        "\n",
        "epochs=30\n",
        "train_losses, test_losses = [], []\n",
        "for e in range(epochs):\n",
        "    running_loss = 0\n",
        "    for images, labels in trainloader:\n",
        "        # 0으로 초기화\n",
        "        optimizer.zero_grad()\n",
        "        # log_ps-> 확률값\n",
        "        # Image를 GPU에 올리자\n",
        "        log_ps = model(images.to(device))\n",
        "        # 손실계산\n",
        "        # labels를 GPU에 올리자\n",
        "        loss = criterion(log_ps, labels.to(device))\n",
        "        loss.backward()\n",
        "        optimizer.step()\n",
        "        \n",
        "        \n",
        "        running_loss += loss.item()\n",
        "        \n",
        "    else:\n",
        "        test_loss = 0\n",
        "        accuracy = 0\n",
        "        \n",
        "        with torch.no_grad():\n",
        "            # test 과정에 들어간다. dropout을 안하게 된다.\n",
        "            # 정확하게 말하면, dropout 하는 비율이 0이 된다.\n",
        "            model.eval()\n",
        "            for images, labels in testloader:\n",
        "                log_ps = model(images.to(device))\n",
        "                test_loss += criterion(log_ps, labels.to(device))\n",
        "                \n",
        "                ps = torch.exp(log_ps)\n",
        "                top_p, top_class = ps.topk(1, dim=1)\n",
        "                equals = top_class == labels.to(device).view(*top_class.shape)\n",
        "                accuracy += torch.mean(equals.type(torch.FloatTensor))\n",
        "        \n",
        "        # 다시 트레이닝 과정으로 돌아간다.\n",
        "        model.train()\n",
        "        \n",
        "        train_losses.append(running_loss/len(trainloader))\n",
        "        test_losses.append(test_loss/len(testloader))\n",
        "\n",
        "        print(\"Epoch: {}/{}.. \".format(e+1, epochs),\n",
        "              \"Training Loss: {:.3f}.. \".format(train_losses[-1]),\n",
        "              \"Test Loss: {:.3f}.. \".format(test_losses[-1]),\n",
        "              \"Test Accuracy: {:.3f}\".format(accuracy/len(testloader)))\n"
      ],
      "execution_count": 15,
      "outputs": [
        {
          "output_type": "stream",
          "text": [
            "Epoch: 1/30..  Training Loss: 1.761..  Test Loss: 1.585..  Test Accuracy: 0.433\n",
            "Epoch: 2/30..  Training Loss: 1.604..  Test Loss: 1.487..  Test Accuracy: 0.472\n",
            "Epoch: 3/30..  Training Loss: 1.550..  Test Loss: 1.456..  Test Accuracy: 0.482\n",
            "Epoch: 4/30..  Training Loss: 1.511..  Test Loss: 1.428..  Test Accuracy: 0.491\n",
            "Epoch: 5/30..  Training Loss: 1.479..  Test Loss: 1.395..  Test Accuracy: 0.499\n",
            "Epoch: 6/30..  Training Loss: 1.460..  Test Loss: 1.378..  Test Accuracy: 0.511\n",
            "Epoch: 7/30..  Training Loss: 1.437..  Test Loss: 1.359..  Test Accuracy: 0.512\n",
            "Epoch: 8/30..  Training Loss: 1.419..  Test Loss: 1.332..  Test Accuracy: 0.526\n",
            "Epoch: 9/30..  Training Loss: 1.406..  Test Loss: 1.331..  Test Accuracy: 0.521\n",
            "Epoch: 10/30..  Training Loss: 1.392..  Test Loss: 1.321..  Test Accuracy: 0.529\n",
            "Epoch: 11/30..  Training Loss: 1.384..  Test Loss: 1.303..  Test Accuracy: 0.534\n",
            "Epoch: 12/30..  Training Loss: 1.373..  Test Loss: 1.303..  Test Accuracy: 0.532\n",
            "Epoch: 13/30..  Training Loss: 1.369..  Test Loss: 1.298..  Test Accuracy: 0.534\n",
            "Epoch: 14/30..  Training Loss: 1.350..  Test Loss: 1.284..  Test Accuracy: 0.542\n",
            "Epoch: 15/30..  Training Loss: 1.344..  Test Loss: 1.289..  Test Accuracy: 0.542\n",
            "Epoch: 16/30..  Training Loss: 1.335..  Test Loss: 1.276..  Test Accuracy: 0.545\n",
            "Epoch: 17/30..  Training Loss: 1.327..  Test Loss: 1.262..  Test Accuracy: 0.548\n",
            "Epoch: 18/30..  Training Loss: 1.319..  Test Loss: 1.256..  Test Accuracy: 0.548\n",
            "Epoch: 19/30..  Training Loss: 1.315..  Test Loss: 1.264..  Test Accuracy: 0.545\n",
            "Epoch: 20/30..  Training Loss: 1.305..  Test Loss: 1.254..  Test Accuracy: 0.550\n",
            "Epoch: 21/30..  Training Loss: 1.305..  Test Loss: 1.260..  Test Accuracy: 0.554\n",
            "Epoch: 22/30..  Training Loss: 1.298..  Test Loss: 1.244..  Test Accuracy: 0.556\n",
            "Epoch: 23/30..  Training Loss: 1.291..  Test Loss: 1.247..  Test Accuracy: 0.556\n",
            "Epoch: 24/30..  Training Loss: 1.285..  Test Loss: 1.238..  Test Accuracy: 0.556\n",
            "Epoch: 25/30..  Training Loss: 1.277..  Test Loss: 1.232..  Test Accuracy: 0.563\n",
            "Epoch: 26/30..  Training Loss: 1.276..  Test Loss: 1.236..  Test Accuracy: 0.558\n",
            "Epoch: 27/30..  Training Loss: 1.268..  Test Loss: 1.232..  Test Accuracy: 0.560\n",
            "Epoch: 28/30..  Training Loss: 1.272..  Test Loss: 1.227..  Test Accuracy: 0.556\n",
            "Epoch: 29/30..  Training Loss: 1.262..  Test Loss: 1.233..  Test Accuracy: 0.559\n",
            "Epoch: 30/30..  Training Loss: 1.258..  Test Loss: 1.211..  Test Accuracy: 0.563\n"
          ],
          "name": "stdout"
        }
      ]
    },
    {
      "cell_type": "code",
      "metadata": {
        "id": "Gh-dY0Jrkv-S",
        "colab_type": "code",
        "colab": {
          "base_uri": "https://localhost:8080/",
          "height": 285
        },
        "outputId": "d2fb1d4a-e302-46bf-ee49-0090a92d8b59"
      },
      "source": [
        "%matplotlib inline\n",
        "%config InlineBackend.figure_format='retina'\n",
        "\n",
        "import matplotlib.pyplot as plt\n",
        "\n",
        "plt.plot(train_losses, label='training loss')\n",
        "plt.plot(test_losses, label='Validation loss')\n",
        "plt.legend(frameon=False)"
      ],
      "execution_count": 16,
      "outputs": [
        {
          "output_type": "execute_result",
          "data": {
            "text/plain": [
              "<matplotlib.legend.Legend at 0x7f8d154279b0>"
            ]
          },
          "metadata": {
            "tags": []
          },
          "execution_count": 16
        },
        {
          "output_type": "display_data",
          "data": {
            "image/png": "[encoded data removed]",
            "text/plain": [
              "<Figure size 432x288 with 1 Axes>"
            ]
          },
          "metadata": {
            "tags": [],
            "image/png": {
              "width": 373,
              "height": 250
            }
          }
        }
      ]
    }
  ]
}