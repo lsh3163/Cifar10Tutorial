{
  "nbformat": 4,
  "nbformat_minor": 0,
  "metadata": {
    "colab": {
      "name": "Homework2.ipynb",
      "version": "0.3.2",
      "provenance": [],
      "include_colab_link": true
    },
    "kernelspec": {
      "name": "python3",
      "display_name": "Python 3"
    },
    "accelerator": "GPU"
  },
  "cells": [
    {
      "cell_type": "markdown",
      "metadata": {
        "id": "view-in-github",
        "colab_type": "text"
      },
      "source": [
        "<a href=\"https://colab.research.google.com/github/lsh3163/Cifar10Tutorial/blob/master/Cifar10Tutorial.ipynb\" target=\"_parent\"><img src=\"https://colab.research.google.com/assets/colab-badge.svg\" alt=\"Open In Colab\"/></a>"
      ]
    },
    {
      "cell_type": "markdown",
      "metadata": {
        "id": "N4vciALPHRmK",
        "colab_type": "text"
      },
      "source": [
        "# Homwerk2 : Neural Network 프레임워크로 구현"
      ]
    },
    {
      "cell_type": "markdown",
      "metadata": {
        "id": "Uer2RVZYH17K",
        "colab_type": "text"
      },
      "source": [
        "## 1. 데이터셋 준비"
      ]
    },
    {
      "cell_type": "code",
      "metadata": {
        "id": "QAbxc1e8Ks9e",
        "colab_type": "code",
        "colab": {
          "base_uri": "https://localhost:8080/",
          "height": 35
        },
        "outputId": "fd89da8d-db89-46b1-9423-1d45d1a60785"
      },
      "source": [
        "device = torch.device(\"cuda:0\" if torch.cuda.is_available() else \"cpu\")\n",
        "\n",
        "# CUDA 기기가 존재한다면, 아래 코드가 CUDA 장치를 출력합니다:\n",
        "\n",
        "print(device)"
      ],
      "execution_count": 10,
      "outputs": [
        {
          "output_type": "stream",
          "text": [
            "cuda:0\n"
          ],
          "name": "stdout"
        }
      ]
    },
    {
      "cell_type": "code",
      "metadata": {
        "id": "R91J7Ci-HW2z",
        "colab_type": "code",
        "outputId": "f3137b1c-1ed4-43fd-ab69-e9b264891bd8",
        "colab": {
          "base_uri": "https://localhost:8080/",
          "height": 54
        }
      },
      "source": [
        "import torch\n",
        "from torchvision import datasets, transforms\n",
        "import helper\n",
        "\n",
        "# Define a transform to normalize the data\n",
        "transform = transforms.Compose([transforms.ToTensor(),\n",
        "                                transforms.Normalize([0.5, 0.5, 0.5], [0.5, 0.5, 0.5])])\n",
        "# Download and load the training data\n",
        "trainset = datasets.CIFAR10('~/.pytorch/MNIST_data/', download=True, train=True, transform=transform)\n",
        "trainloader = torch.utils.data.DataLoader(trainset, batch_size=64, shuffle=True)\n",
        "\n",
        "# Download and load the test data\n",
        "testset = datasets.CIFAR10('~/.pytorch/MNIST_data/', download=True, train=False, transform=transform)\n",
        "testloader = torch.utils.data.DataLoader(testset, batch_size=64, shuffle=True)"
      ],
      "execution_count": 11,
      "outputs": [
        {
          "output_type": "stream",
          "text": [
            "Files already downloaded and verified\n",
            "Files already downloaded and verified\n"
          ],
          "name": "stdout"
        }
      ]
    },
    {
      "cell_type": "markdown",
      "metadata": {
        "id": "bAa5fFMXIAzh",
        "colab_type": "text"
      },
      "source": [
        "### Plot Image"
      ]
    },
    {
      "cell_type": "code",
      "metadata": {
        "id": "z1OTRq_pIAKG",
        "colab_type": "code",
        "colab": {}
      },
      "source": [
        "def imshow(img):\n",
        "    img = img / 2 + 0.5     # unnormalize\n",
        "    npimg = img.numpy()\n",
        "    plt.imshow(np.transpose(npimg, (1, 2, 0)))\n",
        "    plt.show()"
      ],
      "execution_count": 0,
      "outputs": []
    },
    {
      "cell_type": "code",
      "metadata": {
        "id": "yxRw4-NSH0Gd",
        "colab_type": "code",
        "outputId": "1ba654d8-adc7-4b4f-bf5f-8fc720d28007",
        "colab": {
          "base_uri": "https://localhost:8080/",
          "height": 269
        }
      },
      "source": [
        "import matplotlib.pyplot as plt\n",
        "import numpy as np\n",
        "image, label = next(iter(trainloader))\n",
        "imshow(image[0,:]);"
      ],
      "execution_count": 13,
      "outputs": [
        {
          "output_type": "display_data",
          "data": {
            "image/png": "[encoded data removed]",
            "text/plain": [
              "<Figure size 432x288 with 1 Axes>"
            ]
          },
          "metadata": {
            "tags": []
          }
        }
      ]
    },
    {
      "cell_type": "markdown",
      "metadata": {
        "id": "5Fu5FG9NIWEu",
        "colab_type": "text"
      },
      "source": [
        "## 2. 네트워크 만들기"
      ]
    },
    {
      "cell_type": "code",
      "metadata": {
        "id": "k7N6SspfIU_P",
        "colab_type": "code",
        "colab": {}
      },
      "source": [
        "from torch import nn\n",
        "from torch import optim\n",
        "from torch.nn import functional as F\n",
        "class Classifier(nn.Module):\n",
        "    def __init__(self):\n",
        "        super().__init__()\n",
        "        self.fc1 = nn.Linear(32*32*3, 512)\n",
        "        self.batch1 = nn.BatchNorm1d(512)\n",
        "        self.fc2 = nn.Linear(512, 256)\n",
        "        self.batch2 = nn.BatchNorm1d(256)\n",
        "        self.fc3 = nn.Linear(256, 128)\n",
        "        self.batch3 = nn.BatchNorm1d(128)\n",
        "        self.fc4 = nn.Linear(128, 10)\n",
        "\n",
        "        # 0.2정도를 무작위로 골라 dropout한다.\n",
        "        self.dropout = nn.Dropout(p=0.2)\n",
        "    \n",
        "    def forward(self, x):\n",
        "        x = x.view(x.shape[0], -1)\n",
        "        \n",
        "        x = self.dropout(F.relu(self.batch1(self.fc1(x))))\n",
        "        x = self.dropout(F.relu(self.batch2(self.fc2(x))))\n",
        "        x = self.dropout(F.relu(self.batch3(self.fc3(x))))\n",
        "\n",
        "        # output은 dropout하면 안된다..\n",
        "        x = F.log_softmax(self.fc4(x), dim=1)\n",
        "\n",
        "        return x"
      ],
      "execution_count": 0,
      "outputs": []
    },
    {
      "cell_type": "code",
      "metadata": {
        "id": "-3UT2JnPILC5",
        "colab_type": "code",
        "outputId": "b3d7a3a4-48ef-43c8-ac94-f51ba5ae235b",
        "colab": {
          "base_uri": "https://localhost:8080/",
          "height": 563
        }
      },
      "source": [
        "model = Classifier()\n",
        "model.to(device)\n",
        "# Log Softmax Classifier\n",
        "criterion = nn.NLLLoss()\n",
        "# Adam optimizer\n",
        "optimizer = optim.Adam(model.parameters(), lr=0.003, betas=(0.9, 0.999))\n",
        "\n",
        "epochs=30\n",
        "train_losses, test_losses = [], []\n",
        "for e in range(epochs):\n",
        "    running_loss = 0\n",
        "    for images, labels in trainloader:\n",
        "        # 0으로 초기화\n",
        "        optimizer.zero_grad()\n",
        "        # log_ps-> 확률값\n",
        "        log_ps = model(images.to(device))\n",
        "        # 손실계산\n",
        "        loss = criterion(log_ps, labels.to(device))\n",
        "        loss.backward()\n",
        "        optimizer.step()\n",
        "        \n",
        "        \n",
        "        running_loss += loss.item()\n",
        "        \n",
        "    else:\n",
        "        test_loss = 0\n",
        "        accuracy = 0\n",
        "        \n",
        "        with torch.no_grad():\n",
        "            # test 과정에 들어간다. dropout을 안하게 된다.\n",
        "            # 정확하게 말하면, dropout 하는 비율이 0이 된다.\n",
        "            model.eval()\n",
        "            for images, labels in testloader:\n",
        "                log_ps = model(images.to(device))\n",
        "                test_loss += criterion(log_ps, labels.to(device))\n",
        "                \n",
        "                ps = torch.exp(log_ps)\n",
        "                top_p, top_class = ps.topk(1, dim=1)\n",
        "                equals = top_class == labels.to(device).view(*top_class.shape)\n",
        "                accuracy += torch.mean(equals.type(torch.FloatTensor))\n",
        "        \n",
        "        # 다시 트레이닝 과정으로 돌아간다.\n",
        "        model.train()\n",
        "        \n",
        "        train_losses.append(running_loss/len(trainloader))\n",
        "        test_losses.append(test_loss/len(testloader))\n",
        "\n",
        "        print(\"Epoch: {}/{}.. \".format(e+1, epochs),\n",
        "              \"Training Loss: {:.3f}.. \".format(train_losses[-1]),\n",
        "              \"Test Loss: {:.3f}.. \".format(test_losses[-1]),\n",
        "              \"Test Accuracy: {:.3f}\".format(accuracy/len(testloader)))\n"
      ],
      "execution_count": 18,
      "outputs": [
        {
          "output_type": "stream",
          "text": [
            "Epoch: 1/30..  Training Loss: 1.711..  Test Loss: 1.493..  Test Accuracy: 0.468\n",
            "Epoch: 2/30..  Training Loss: 1.513..  Test Loss: 1.406..  Test Accuracy: 0.500\n",
            "Epoch: 3/30..  Training Loss: 1.430..  Test Loss: 1.341..  Test Accuracy: 0.522\n",
            "Epoch: 4/30..  Training Loss: 1.364..  Test Loss: 1.307..  Test Accuracy: 0.536\n",
            "Epoch: 5/30..  Training Loss: 1.318..  Test Loss: 1.294..  Test Accuracy: 0.534\n",
            "Epoch: 6/30..  Training Loss: 1.275..  Test Loss: 1.269..  Test Accuracy: 0.544\n",
            "Epoch: 7/30..  Training Loss: 1.234..  Test Loss: 1.261..  Test Accuracy: 0.548\n",
            "Epoch: 8/30..  Training Loss: 1.200..  Test Loss: 1.250..  Test Accuracy: 0.552\n",
            "Epoch: 9/30..  Training Loss: 1.164..  Test Loss: 1.238..  Test Accuracy: 0.561\n",
            "Epoch: 10/30..  Training Loss: 1.139..  Test Loss: 1.242..  Test Accuracy: 0.558\n",
            "Epoch: 11/30..  Training Loss: 1.108..  Test Loss: 1.243..  Test Accuracy: 0.560\n",
            "Epoch: 12/30..  Training Loss: 1.082..  Test Loss: 1.227..  Test Accuracy: 0.566\n",
            "Epoch: 13/30..  Training Loss: 1.054..  Test Loss: 1.235..  Test Accuracy: 0.560\n",
            "Epoch: 14/30..  Training Loss: 1.036..  Test Loss: 1.216..  Test Accuracy: 0.574\n",
            "Epoch: 15/30..  Training Loss: 1.006..  Test Loss: 1.236..  Test Accuracy: 0.570\n",
            "Epoch: 16/30..  Training Loss: 0.981..  Test Loss: 1.225..  Test Accuracy: 0.574\n",
            "Epoch: 17/30..  Training Loss: 0.967..  Test Loss: 1.239..  Test Accuracy: 0.570\n",
            "Epoch: 18/30..  Training Loss: 0.940..  Test Loss: 1.231..  Test Accuracy: 0.574\n",
            "Epoch: 19/30..  Training Loss: 0.928..  Test Loss: 1.238..  Test Accuracy: 0.573\n",
            "Epoch: 20/30..  Training Loss: 0.906..  Test Loss: 1.256..  Test Accuracy: 0.568\n",
            "Epoch: 21/30..  Training Loss: 0.895..  Test Loss: 1.247..  Test Accuracy: 0.573\n",
            "Epoch: 22/30..  Training Loss: 0.875..  Test Loss: 1.264..  Test Accuracy: 0.566\n",
            "Epoch: 23/30..  Training Loss: 0.852..  Test Loss: 1.257..  Test Accuracy: 0.574\n",
            "Epoch: 24/30..  Training Loss: 0.835..  Test Loss: 1.265..  Test Accuracy: 0.571\n",
            "Epoch: 25/30..  Training Loss: 0.832..  Test Loss: 1.272..  Test Accuracy: 0.577\n",
            "Epoch: 26/30..  Training Loss: 0.812..  Test Loss: 1.284..  Test Accuracy: 0.575\n",
            "Epoch: 27/30..  Training Loss: 0.791..  Test Loss: 1.299..  Test Accuracy: 0.579\n",
            "Epoch: 28/30..  Training Loss: 0.788..  Test Loss: 1.307..  Test Accuracy: 0.572\n",
            "Epoch: 29/30..  Training Loss: 0.772..  Test Loss: 1.289..  Test Accuracy: 0.575\n",
            "Epoch: 30/30..  Training Loss: 0.760..  Test Loss: 1.298..  Test Accuracy: 0.576\n"
          ],
          "name": "stdout"
        }
      ]
    },
    {
      "cell_type": "code",
      "metadata": {
        "id": "2W8UC680NC9S",
        "colab_type": "code",
        "colab": {
          "base_uri": "https://localhost:8080/",
          "height": 285
        },
        "outputId": "c0aa47f4-b11f-4dbb-bd2e-6945404c0f26"
      },
      "source": [
        "%matplotlib inline\n",
        "%config InlineBackend.figure_format='retina'\n",
        "\n",
        "import matplotlib.pyplot as plt\n",
        "\n",
        "plt.plot(train_losses, label='training loss')\n",
        "plt.plot(test_losses, label='Validation loss')\n",
        "plt.legend(frameon=False)"
      ],
      "execution_count": 19,
      "outputs": [
        {
          "output_type": "execute_result",
          "data": {
            "text/plain": [
              "<matplotlib.legend.Legend at 0x7f1cbc5e9978>"
            ]
          },
          "metadata": {
            "tags": []
          },
          "execution_count": 19
        },
        {
          "output_type": "display_data",
          "data": {
            "image/png": "[encoded data removed]",
            "text/plain": [
              "<Figure size 432x288 with 1 Axes>"
            ]
          },
          "metadata": {
            "tags": [],
            "image/png": {
              "width": 373,
              "height": 250
            }
          }
        }
      ]
    },
    {
      "cell_type": "markdown",
      "metadata": {
        "id": "MRE1Ia9Cpfan",
        "colab_type": "text"
      },
      "source": [
        "## Data Augmentation"
      ]
    },
    {
      "cell_type": "code",
      "metadata": {
        "id": "THaVSQFAnKcM",
        "colab_type": "code",
        "colab": {}
      },
      "source": [
        "from torchvision import datasets, transforms\n",
        "\n",
        "# Define a transform to normalize the data\n",
        "transform = transforms.Compose([transforms.RandomRotation(20),\n",
        "                                transforms.ToTensor(),\n",
        "                                transforms.Normalize([0.5, 0.5, 0.5], [0.5, 0.5, 0.5])])"
      ],
      "execution_count": 0,
      "outputs": []
    },
    {
      "cell_type": "code",
      "metadata": {
        "id": "4Zg8r7WUjAEn",
        "colab_type": "code",
        "colab": {
          "base_uri": "https://localhost:8080/",
          "height": 54
        },
        "outputId": "5d2b6255-74da-459f-c0fe-b65084669cc7"
      },
      "source": [
        "# Download and load the training data\n",
        "trainset = datasets.CIFAR10('~/.pytorch/MNIST_data/', download=True, train=True, transform=transform)\n",
        "trainloader = torch.utils.data.DataLoader(trainset, batch_size=64, shuffle=True)\n",
        "\n",
        "# Download and load the test data\n",
        "testset = datasets.CIFAR10('~/.pytorch/MNIST_data/', download=True, train=False, transform=transform)\n",
        "testloader = torch.utils.data.DataLoader(testset, batch_size=64, shuffle=True)"
      ],
      "execution_count": 21,
      "outputs": [
        {
          "output_type": "stream",
          "text": [
            "Files already downloaded and verified\n",
            "Files already downloaded and verified\n"
          ],
          "name": "stdout"
        }
      ]
    },
    {
      "cell_type": "code",
      "metadata": {
        "id": "A9BkZ1Swkrtt",
        "colab_type": "code",
        "colab": {
          "base_uri": "https://localhost:8080/",
          "height": 563
        },
        "outputId": "4599f5d6-cae0-4dc4-9eda-4df4e3e58d42"
      },
      "source": [
        "model = Classifier()\n",
        "model.to(device)\n",
        "# Log Softmax Classifier\n",
        "criterion = nn.NLLLoss()\n",
        "# Adam optimizer\n",
        "optimizer = optim.Adam(model.parameters(), lr=0.003, betas=(0.9, 0.999))\n",
        "\n",
        "epochs=30\n",
        "train_losses, test_losses = [], []\n",
        "for e in range(epochs):\n",
        "    running_loss = 0\n",
        "    for images, labels in trainloader:\n",
        "        # 0으로 초기화\n",
        "        optimizer.zero_grad()\n",
        "        # log_ps-> 확률값\n",
        "        # Image를 GPU에 올리자\n",
        "        log_ps = model(images.to(device))\n",
        "        # 손실계산\n",
        "        # labels를 GPU에 올리자\n",
        "        loss = criterion(log_ps, labels.to(device))\n",
        "        loss.backward()\n",
        "        optimizer.step()\n",
        "        \n",
        "        \n",
        "        running_loss += loss.item()\n",
        "        \n",
        "    else:\n",
        "        test_loss = 0\n",
        "        accuracy = 0\n",
        "        \n",
        "        with torch.no_grad():\n",
        "            # test 과정에 들어간다. dropout을 안하게 된다.\n",
        "            # 정확하게 말하면, dropout 하는 비율이 0이 된다.\n",
        "            model.eval()\n",
        "            for images, labels in testloader:\n",
        "                log_ps = model(images.to(device))\n",
        "                test_loss += criterion(log_ps, labels.to(device))\n",
        "                \n",
        "                ps = torch.exp(log_ps)\n",
        "                top_p, top_class = ps.topk(1, dim=1)\n",
        "                equals = top_class == labels.to(device).view(*top_class.shape)\n",
        "                accuracy += torch.mean(equals.type(torch.FloatTensor))\n",
        "        \n",
        "        # 다시 트레이닝 과정으로 돌아간다.\n",
        "        model.train()\n",
        "        \n",
        "        train_losses.append(running_loss/len(trainloader))\n",
        "        test_losses.append(test_loss/len(testloader))\n",
        "\n",
        "        print(\"Epoch: {}/{}.. \".format(e+1, epochs),\n",
        "              \"Training Loss: {:.3f}.. \".format(train_losses[-1]),\n",
        "              \"Test Loss: {:.3f}.. \".format(test_losses[-1]),\n",
        "              \"Test Accuracy: {:.3f}\".format(accuracy/len(testloader)))\n"
      ],
      "execution_count": 22,
      "outputs": [
        {
          "output_type": "stream",
          "text": [
            "Epoch: 1/30..  Training Loss: 1.765..  Test Loss: 1.550..  Test Accuracy: 0.442\n",
            "Epoch: 2/30..  Training Loss: 1.592..  Test Loss: 1.474..  Test Accuracy: 0.474\n",
            "Epoch: 3/30..  Training Loss: 1.522..  Test Loss: 1.426..  Test Accuracy: 0.488\n",
            "Epoch: 4/30..  Training Loss: 1.476..  Test Loss: 1.389..  Test Accuracy: 0.505\n",
            "Epoch: 5/30..  Training Loss: 1.438..  Test Loss: 1.369..  Test Accuracy: 0.512\n",
            "Epoch: 6/30..  Training Loss: 1.410..  Test Loss: 1.327..  Test Accuracy: 0.522\n",
            "Epoch: 7/30..  Training Loss: 1.382..  Test Loss: 1.333..  Test Accuracy: 0.520\n",
            "Epoch: 8/30..  Training Loss: 1.362..  Test Loss: 1.297..  Test Accuracy: 0.536\n",
            "Epoch: 9/30..  Training Loss: 1.345..  Test Loss: 1.288..  Test Accuracy: 0.542\n",
            "Epoch: 10/30..  Training Loss: 1.324..  Test Loss: 1.287..  Test Accuracy: 0.541\n",
            "Epoch: 11/30..  Training Loss: 1.306..  Test Loss: 1.265..  Test Accuracy: 0.547\n",
            "Epoch: 12/30..  Training Loss: 1.296..  Test Loss: 1.253..  Test Accuracy: 0.555\n",
            "Epoch: 13/30..  Training Loss: 1.287..  Test Loss: 1.270..  Test Accuracy: 0.542\n",
            "Epoch: 14/30..  Training Loss: 1.275..  Test Loss: 1.244..  Test Accuracy: 0.553\n",
            "Epoch: 15/30..  Training Loss: 1.257..  Test Loss: 1.240..  Test Accuracy: 0.552\n",
            "Epoch: 16/30..  Training Loss: 1.250..  Test Loss: 1.233..  Test Accuracy: 0.560\n",
            "Epoch: 17/30..  Training Loss: 1.238..  Test Loss: 1.228..  Test Accuracy: 0.560\n",
            "Epoch: 18/30..  Training Loss: 1.233..  Test Loss: 1.216..  Test Accuracy: 0.565\n",
            "Epoch: 19/30..  Training Loss: 1.219..  Test Loss: 1.213..  Test Accuracy: 0.561\n",
            "Epoch: 20/30..  Training Loss: 1.208..  Test Loss: 1.211..  Test Accuracy: 0.565\n",
            "Epoch: 21/30..  Training Loss: 1.203..  Test Loss: 1.215..  Test Accuracy: 0.561\n",
            "Epoch: 22/30..  Training Loss: 1.196..  Test Loss: 1.210..  Test Accuracy: 0.568\n",
            "Epoch: 23/30..  Training Loss: 1.184..  Test Loss: 1.204..  Test Accuracy: 0.569\n",
            "Epoch: 24/30..  Training Loss: 1.175..  Test Loss: 1.198..  Test Accuracy: 0.572\n",
            "Epoch: 25/30..  Training Loss: 1.169..  Test Loss: 1.197..  Test Accuracy: 0.571\n",
            "Epoch: 26/30..  Training Loss: 1.164..  Test Loss: 1.194..  Test Accuracy: 0.575\n",
            "Epoch: 27/30..  Training Loss: 1.160..  Test Loss: 1.207..  Test Accuracy: 0.573\n",
            "Epoch: 28/30..  Training Loss: 1.147..  Test Loss: 1.191..  Test Accuracy: 0.577\n",
            "Epoch: 29/30..  Training Loss: 1.140..  Test Loss: 1.187..  Test Accuracy: 0.575\n",
            "Epoch: 30/30..  Training Loss: 1.138..  Test Loss: 1.183..  Test Accuracy: 0.575\n"
          ],
          "name": "stdout"
        }
      ]
    },
    {
      "cell_type": "code",
      "metadata": {
        "id": "Gh-dY0Jrkv-S",
        "colab_type": "code",
        "colab": {
          "base_uri": "https://localhost:8080/",
          "height": 285
        },
        "outputId": "aa1aedf4-6c1b-45a1-fa0e-c0084999deca"
      },
      "source": [
        "%matplotlib inline\n",
        "%config InlineBackend.figure_format='retina'\n",
        "\n",
        "import matplotlib.pyplot as plt\n",
        "\n",
        "plt.plot(train_losses, label='training loss')\n",
        "plt.plot(test_losses, label='Validation loss')\n",
        "plt.legend(frameon=False)"
      ],
      "execution_count": 23,
      "outputs": [
        {
          "output_type": "execute_result",
          "data": {
            "text/plain": [
              "<matplotlib.legend.Legend at 0x7f1cbc66ea20>"
            ]
          },
          "metadata": {
            "tags": []
          },
          "execution_count": 23
        },
        {
          "output_type": "display_data",
          "data": {
            "image/png": "[encoded data removed]",
            "text/plain": [
              "<Figure size 432x288 with 1 Axes>"
            ]
          },
          "metadata": {
            "tags": [],
            "image/png": {
              "width": 373,
              "height": 250
            }
          }
        }
      ]
    }
  ]
}